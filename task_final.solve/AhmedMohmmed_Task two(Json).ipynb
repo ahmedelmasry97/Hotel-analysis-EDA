{
 "cells": [
  {
   "cell_type": "markdown",
   "id": "c93a1a58",
   "metadata": {},
   "source": [
    "# import the libraries"
   ]
  },
  {
   "cell_type": "code",
   "execution_count": 15,
   "id": "16306790",
   "metadata": {},
   "outputs": [],
   "source": [
    "import pandas as pd\n",
    "import json \n",
    "import numpy as np\n",
    "import matplotlib.pyplot as plt"
   ]
  },
  {
   "cell_type": "markdown",
   "id": "945f439c",
   "metadata": {},
   "source": [
    "# explore the JSON file and trans the file into a data frame"
   ]
  },
  {
   "cell_type": "code",
   "execution_count": 22,
   "id": "e813e91d",
   "metadata": {},
   "outputs": [],
   "source": [
    "with open(r'D:\\data analysis\\data analysis practies\\task for interviwe\\roomlist.json') as f:\n",
    "    data = json.load(f)\n",
    "    dfs = []\n",
    "    for record in data['value']:\n",
    "        df = pd.json_normalize(record) \n",
    "        dfs.append(df)\n",
    "    final_d = pd.concat(dfs, ignore_index=True)"
   ]
  },
  {
   "cell_type": "code",
   "execution_count": 23,
   "id": "9aaec436",
   "metadata": {},
   "outputs": [
    {
     "data": {
      "text/html": [
       "<div>\n",
       "<style scoped>\n",
       "    .dataframe tbody tr th:only-of-type {\n",
       "        vertical-align: middle;\n",
       "    }\n",
       "\n",
       "    .dataframe tbody tr th {\n",
       "        vertical-align: top;\n",
       "    }\n",
       "\n",
       "    .dataframe thead th {\n",
       "        text-align: right;\n",
       "    }\n",
       "</style>\n",
       "<table border=\"1\" class=\"dataframe\">\n",
       "  <thead>\n",
       "    <tr style=\"text-align: right;\">\n",
       "      <th></th>\n",
       "      <th>HotelId</th>\n",
       "      <th>HotelName</th>\n",
       "      <th>Description</th>\n",
       "      <th>Description_fr</th>\n",
       "      <th>Category</th>\n",
       "      <th>Tags</th>\n",
       "      <th>ParkingIncluded</th>\n",
       "      <th>LastRenovationDate</th>\n",
       "      <th>Rating</th>\n",
       "      <th>Rooms</th>\n",
       "      <th>Address.StreetAddress</th>\n",
       "      <th>Address.City</th>\n",
       "      <th>Address.StateProvince</th>\n",
       "      <th>Address.PostalCode</th>\n",
       "      <th>Address.Country</th>\n",
       "      <th>Location.type</th>\n",
       "      <th>Location.coordinates</th>\n",
       "    </tr>\n",
       "  </thead>\n",
       "  <tbody>\n",
       "    <tr>\n",
       "      <th>0</th>\n",
       "      <td>1</td>\n",
       "      <td>Secret Point Hotel</td>\n",
       "      <td>This classic hotel is ideally located on the m...</td>\n",
       "      <td>Cet hôtel classique est idéalement situé sur l...</td>\n",
       "      <td>Boutique</td>\n",
       "      <td>[view, air conditioning, concierge]</td>\n",
       "      <td>False</td>\n",
       "      <td>2017-01-18T00:00:00Z</td>\n",
       "      <td>3.6</td>\n",
       "      <td>[{'Description': 'Budget Room, 1 Queen Bed (Ci...</td>\n",
       "      <td>677 5th Ave</td>\n",
       "      <td>New York</td>\n",
       "      <td>NY</td>\n",
       "      <td>10022</td>\n",
       "      <td>USA</td>\n",
       "      <td>Point</td>\n",
       "      <td>[-73.975403, 40.760586]</td>\n",
       "    </tr>\n",
       "  </tbody>\n",
       "</table>\n",
       "</div>"
      ],
      "text/plain": [
       "  HotelId           HotelName  \\\n",
       "0       1  Secret Point Hotel   \n",
       "\n",
       "                                         Description  \\\n",
       "0  This classic hotel is ideally located on the m...   \n",
       "\n",
       "                                      Description_fr  Category  \\\n",
       "0  Cet hôtel classique est idéalement situé sur l...  Boutique   \n",
       "\n",
       "                                  Tags  ParkingIncluded    LastRenovationDate  \\\n",
       "0  [view, air conditioning, concierge]            False  2017-01-18T00:00:00Z   \n",
       "\n",
       "   Rating                                              Rooms  \\\n",
       "0     3.6  [{'Description': 'Budget Room, 1 Queen Bed (Ci...   \n",
       "\n",
       "  Address.StreetAddress Address.City Address.StateProvince Address.PostalCode  \\\n",
       "0           677 5th Ave     New York                    NY              10022   \n",
       "\n",
       "  Address.Country Location.type     Location.coordinates  \n",
       "0             USA         Point  [-73.975403, 40.760586]  "
      ]
     },
     "execution_count": 23,
     "metadata": {},
     "output_type": "execute_result"
    }
   ],
   "source": [
    "final_d"
   ]
  },
  {
   "cell_type": "code",
   "execution_count": 24,
   "id": "fcb4c99c",
   "metadata": {},
   "outputs": [
    {
     "name": "stdout",
     "output_type": "stream",
     "text": [
      "<class 'pandas.core.frame.DataFrame'>\n",
      "RangeIndex: 1 entries, 0 to 0\n",
      "Data columns (total 17 columns):\n",
      " #   Column                 Non-Null Count  Dtype  \n",
      "---  ------                 --------------  -----  \n",
      " 0   HotelId                1 non-null      object \n",
      " 1   HotelName              1 non-null      object \n",
      " 2   Description            1 non-null      object \n",
      " 3   Description_fr         1 non-null      object \n",
      " 4   Category               1 non-null      object \n",
      " 5   Tags                   1 non-null      object \n",
      " 6   ParkingIncluded        1 non-null      bool   \n",
      " 7   LastRenovationDate     1 non-null      object \n",
      " 8   Rating                 1 non-null      float64\n",
      " 9   Rooms                  1 non-null      object \n",
      " 10  Address.StreetAddress  1 non-null      object \n",
      " 11  Address.City           1 non-null      object \n",
      " 12  Address.StateProvince  1 non-null      object \n",
      " 13  Address.PostalCode     1 non-null      object \n",
      " 14  Address.Country        1 non-null      object \n",
      " 15  Location.type          1 non-null      object \n",
      " 16  Location.coordinates   1 non-null      object \n",
      "dtypes: bool(1), float64(1), object(15)\n",
      "memory usage: 261.0+ bytes\n"
     ]
    }
   ],
   "source": [
    "final_d.info() #info about the nested json file"
   ]
  },
  {
   "cell_type": "code",
   "execution_count": 25,
   "id": "f4fda730",
   "metadata": {},
   "outputs": [
    {
     "data": {
      "text/plain": [
       "(1, 17)"
      ]
     },
     "execution_count": 25,
     "metadata": {},
     "output_type": "execute_result"
    }
   ],
   "source": [
    "final_d.shape "
   ]
  },
  {
   "cell_type": "markdown",
   "id": "7fd71af3",
   "metadata": {},
   "source": [
    "# establish a data frame to but the Rooms into it "
   ]
  },
  {
   "cell_type": "code",
   "execution_count": 20,
   "id": "12ddc4f3",
   "metadata": {},
   "outputs": [],
   "source": [
    "with open (r'D:\\data analysis\\data analysis practies\\task for interviwe\\roomlist.json') as f :\n",
    "    data = json.load(f)\n",
    "    dfs=[]\n",
    "    records = data[\"value\"]\n",
    "   \n",
    "    record_path ='Rooms'\n",
    "    for record in records:\n",
    "        \n",
    "        if record_path:\n",
    "            df= pd.json_normalize(record,record_path) # Flatten the nested records\n",
    "        else:\n",
    "            df= pd.json_normalize(record)  # Flatten the records to dataframe\n",
    "            \n",
    "        dfs.append(df)\n",
    "        \n",
    "\n",
    "final_df = pd.concat(dfs,ignore_index=True)\n",
    "\n",
    "nested_record_path='Rooms'"
   ]
  },
  {
   "cell_type": "markdown",
   "id": "bbb98c4f",
   "metadata": {},
   "source": [
    "## summarization about the data and metadata"
   ]
  },
  {
   "cell_type": "code",
   "execution_count": 26,
   "id": "2e6fb091",
   "metadata": {},
   "outputs": [
    {
     "name": "stdout",
     "output_type": "stream",
     "text": [
      "<class 'pandas.core.frame.DataFrame'>\n",
      "RangeIndex: 13 entries, 0 to 12\n",
      "Data columns (total 8 columns):\n",
      " #   Column          Non-Null Count  Dtype  \n",
      "---  ------          --------------  -----  \n",
      " 0   Description     13 non-null     object \n",
      " 1   Description_fr  13 non-null     object \n",
      " 2   Type            13 non-null     object \n",
      " 3   BaseRate        13 non-null     float64\n",
      " 4   BedOptions      13 non-null     object \n",
      " 5   SleepsCount     13 non-null     int64  \n",
      " 6   SmokingAllowed  13 non-null     bool   \n",
      " 7   Tags            13 non-null     object \n",
      "dtypes: bool(1), float64(1), int64(1), object(5)\n",
      "memory usage: 873.0+ bytes\n"
     ]
    }
   ],
   "source": [
    "final_df.info() #info about the Rooms data frame"
   ]
  },
  {
   "cell_type": "code",
   "execution_count": 27,
   "id": "a5312306",
   "metadata": {},
   "outputs": [
    {
     "data": {
      "text/plain": [
       "(13, 8)"
      ]
     },
     "execution_count": 27,
     "metadata": {},
     "output_type": "execute_result"
    }
   ],
   "source": [
    "final_df.shape"
   ]
  },
  {
   "cell_type": "code",
   "execution_count": 28,
   "id": "01964274",
   "metadata": {},
   "outputs": [
    {
     "data": {
      "text/html": [
       "<div>\n",
       "<style scoped>\n",
       "    .dataframe tbody tr th:only-of-type {\n",
       "        vertical-align: middle;\n",
       "    }\n",
       "\n",
       "    .dataframe tbody tr th {\n",
       "        vertical-align: top;\n",
       "    }\n",
       "\n",
       "    .dataframe thead th {\n",
       "        text-align: right;\n",
       "    }\n",
       "</style>\n",
       "<table border=\"1\" class=\"dataframe\">\n",
       "  <thead>\n",
       "    <tr style=\"text-align: right;\">\n",
       "      <th></th>\n",
       "      <th>Description</th>\n",
       "      <th>Description_fr</th>\n",
       "      <th>Type</th>\n",
       "      <th>BaseRate</th>\n",
       "      <th>BedOptions</th>\n",
       "      <th>SleepsCount</th>\n",
       "      <th>SmokingAllowed</th>\n",
       "      <th>Tags</th>\n",
       "    </tr>\n",
       "  </thead>\n",
       "  <tbody>\n",
       "    <tr>\n",
       "      <th>0</th>\n",
       "      <td>Budget Room, 1 Queen Bed (Cityside)</td>\n",
       "      <td>Chambre Économique, 1 grand lit (côté ville)</td>\n",
       "      <td>Budget Room</td>\n",
       "      <td>96.99</td>\n",
       "      <td>1 Queen Bed</td>\n",
       "      <td>2</td>\n",
       "      <td>True</td>\n",
       "      <td>[vcr/dvd]</td>\n",
       "    </tr>\n",
       "    <tr>\n",
       "      <th>1</th>\n",
       "      <td>Budget Room, 1 King Bed (Mountain View)</td>\n",
       "      <td>Chambre Économique, 1 très grand lit (Mountain...</td>\n",
       "      <td>Budget Room</td>\n",
       "      <td>80.99</td>\n",
       "      <td>1 King Bed</td>\n",
       "      <td>2</td>\n",
       "      <td>True</td>\n",
       "      <td>[vcr/dvd, jacuzzi tub]</td>\n",
       "    </tr>\n",
       "    <tr>\n",
       "      <th>2</th>\n",
       "      <td>Deluxe Room, 2 Double Beds (City View)</td>\n",
       "      <td>Chambre Deluxe, 2 lits doubles (vue ville)</td>\n",
       "      <td>Deluxe Room</td>\n",
       "      <td>150.99</td>\n",
       "      <td>2 Double Beds</td>\n",
       "      <td>2</td>\n",
       "      <td>False</td>\n",
       "      <td>[suite, bathroom shower, coffee maker]</td>\n",
       "    </tr>\n",
       "    <tr>\n",
       "      <th>3</th>\n",
       "      <td>Standard Room, 1 King Bed (Amenities)</td>\n",
       "      <td>Chambre Standard, 1 très grand lit (Services)</td>\n",
       "      <td>Standard Room</td>\n",
       "      <td>110.99</td>\n",
       "      <td>1 King Bed</td>\n",
       "      <td>2</td>\n",
       "      <td>False</td>\n",
       "      <td>[Room Tags, bathroom shower, bathroom shower]</td>\n",
       "    </tr>\n",
       "    <tr>\n",
       "      <th>4</th>\n",
       "      <td>Suite, 1 Queen Bed (Mountain View)</td>\n",
       "      <td>Suite, 1 grand lit (vue sur la montagne)</td>\n",
       "      <td>Suite</td>\n",
       "      <td>243.99</td>\n",
       "      <td>1 Queen Bed</td>\n",
       "      <td>2</td>\n",
       "      <td>False</td>\n",
       "      <td>[Room Tags]</td>\n",
       "    </tr>\n",
       "    <tr>\n",
       "      <th>5</th>\n",
       "      <td>Suite, 2 Queen Beds (Mountain View)</td>\n",
       "      <td>Suite, 2 grands lits (vue sur la montagne)</td>\n",
       "      <td>Suite</td>\n",
       "      <td>229.99</td>\n",
       "      <td>2 Queen Beds</td>\n",
       "      <td>4</td>\n",
       "      <td>True</td>\n",
       "      <td>[vcr/dvd]</td>\n",
       "    </tr>\n",
       "    <tr>\n",
       "      <th>6</th>\n",
       "      <td>Budget Room, 1 King Bed (Waterfront View)</td>\n",
       "      <td>Chambre Économique, 1 très grand lit (vue sur ...</td>\n",
       "      <td>Budget Room</td>\n",
       "      <td>87.99</td>\n",
       "      <td>1 King Bed</td>\n",
       "      <td>2</td>\n",
       "      <td>False</td>\n",
       "      <td>[tv]</td>\n",
       "    </tr>\n",
       "    <tr>\n",
       "      <th>7</th>\n",
       "      <td>Suite, 1 King Bed (Waterfront View)</td>\n",
       "      <td>Suite, 1 très grand lit (vue sur le front de mer)</td>\n",
       "      <td>Suite</td>\n",
       "      <td>262.99</td>\n",
       "      <td>1 King Bed</td>\n",
       "      <td>2</td>\n",
       "      <td>False</td>\n",
       "      <td>[vcr/dvd, vcr/dvd]</td>\n",
       "    </tr>\n",
       "    <tr>\n",
       "      <th>8</th>\n",
       "      <td>Suite, 2 Double Beds (Mountain View)</td>\n",
       "      <td>Suite, 2 lits doubles (vue sur la montagne)</td>\n",
       "      <td>Suite</td>\n",
       "      <td>248.99</td>\n",
       "      <td>2 Double Beds</td>\n",
       "      <td>2</td>\n",
       "      <td>False</td>\n",
       "      <td>[coffee maker, coffee maker, coffee maker]</td>\n",
       "    </tr>\n",
       "    <tr>\n",
       "      <th>9</th>\n",
       "      <td>Suite, 1 King Bed (Mountain View)</td>\n",
       "      <td>Suite, 1 très grand lit (vue sur la montagne)</td>\n",
       "      <td>Suite</td>\n",
       "      <td>234.99</td>\n",
       "      <td>1 King Bed</td>\n",
       "      <td>2</td>\n",
       "      <td>True</td>\n",
       "      <td>[tv]</td>\n",
       "    </tr>\n",
       "    <tr>\n",
       "      <th>10</th>\n",
       "      <td>Deluxe Room, 1 King Bed (City View)</td>\n",
       "      <td>Chambre Deluxe, 1 très grand lit (vue ville)</td>\n",
       "      <td>Deluxe Room</td>\n",
       "      <td>146.99</td>\n",
       "      <td>1 King Bed</td>\n",
       "      <td>2</td>\n",
       "      <td>False</td>\n",
       "      <td>[bathroom shower]</td>\n",
       "    </tr>\n",
       "    <tr>\n",
       "      <th>11</th>\n",
       "      <td>Standard Room, 1 King Bed (Waterfront View)</td>\n",
       "      <td>Chambre Standard, 1 très grand lit (vue sur le...</td>\n",
       "      <td>Standard Room</td>\n",
       "      <td>121.99</td>\n",
       "      <td>1 King Bed</td>\n",
       "      <td>2</td>\n",
       "      <td>True</td>\n",
       "      <td>[bathroom shower, vcr/dvd]</td>\n",
       "    </tr>\n",
       "    <tr>\n",
       "      <th>12</th>\n",
       "      <td>Standard Room, 2 Double Beds (City View)</td>\n",
       "      <td>Chambre Standard, 2 lits doubles (vue ville)</td>\n",
       "      <td>Standard Room</td>\n",
       "      <td>55.99</td>\n",
       "      <td>2 Double Beds</td>\n",
       "      <td>2</td>\n",
       "      <td>True</td>\n",
       "      <td>[suite, coffee maker, jacuzzi tub]</td>\n",
       "    </tr>\n",
       "  </tbody>\n",
       "</table>\n",
       "</div>"
      ],
      "text/plain": [
       "                                    Description  \\\n",
       "0           Budget Room, 1 Queen Bed (Cityside)   \n",
       "1       Budget Room, 1 King Bed (Mountain View)   \n",
       "2        Deluxe Room, 2 Double Beds (City View)   \n",
       "3         Standard Room, 1 King Bed (Amenities)   \n",
       "4            Suite, 1 Queen Bed (Mountain View)   \n",
       "5           Suite, 2 Queen Beds (Mountain View)   \n",
       "6     Budget Room, 1 King Bed (Waterfront View)   \n",
       "7           Suite, 1 King Bed (Waterfront View)   \n",
       "8          Suite, 2 Double Beds (Mountain View)   \n",
       "9             Suite, 1 King Bed (Mountain View)   \n",
       "10          Deluxe Room, 1 King Bed (City View)   \n",
       "11  Standard Room, 1 King Bed (Waterfront View)   \n",
       "12     Standard Room, 2 Double Beds (City View)   \n",
       "\n",
       "                                       Description_fr           Type  \\\n",
       "0        Chambre Économique, 1 grand lit (côté ville)    Budget Room   \n",
       "1   Chambre Économique, 1 très grand lit (Mountain...    Budget Room   \n",
       "2          Chambre Deluxe, 2 lits doubles (vue ville)    Deluxe Room   \n",
       "3       Chambre Standard, 1 très grand lit (Services)  Standard Room   \n",
       "4            Suite, 1 grand lit (vue sur la montagne)          Suite   \n",
       "5          Suite, 2 grands lits (vue sur la montagne)          Suite   \n",
       "6   Chambre Économique, 1 très grand lit (vue sur ...    Budget Room   \n",
       "7   Suite, 1 très grand lit (vue sur le front de mer)          Suite   \n",
       "8         Suite, 2 lits doubles (vue sur la montagne)          Suite   \n",
       "9       Suite, 1 très grand lit (vue sur la montagne)          Suite   \n",
       "10       Chambre Deluxe, 1 très grand lit (vue ville)    Deluxe Room   \n",
       "11  Chambre Standard, 1 très grand lit (vue sur le...  Standard Room   \n",
       "12       Chambre Standard, 2 lits doubles (vue ville)  Standard Room   \n",
       "\n",
       "    BaseRate     BedOptions  SleepsCount  SmokingAllowed  \\\n",
       "0      96.99    1 Queen Bed            2            True   \n",
       "1      80.99     1 King Bed            2            True   \n",
       "2     150.99  2 Double Beds            2           False   \n",
       "3     110.99     1 King Bed            2           False   \n",
       "4     243.99    1 Queen Bed            2           False   \n",
       "5     229.99   2 Queen Beds            4            True   \n",
       "6      87.99     1 King Bed            2           False   \n",
       "7     262.99     1 King Bed            2           False   \n",
       "8     248.99  2 Double Beds            2           False   \n",
       "9     234.99     1 King Bed            2            True   \n",
       "10    146.99     1 King Bed            2           False   \n",
       "11    121.99     1 King Bed            2            True   \n",
       "12     55.99  2 Double Beds            2            True   \n",
       "\n",
       "                                             Tags  \n",
       "0                                       [vcr/dvd]  \n",
       "1                          [vcr/dvd, jacuzzi tub]  \n",
       "2          [suite, bathroom shower, coffee maker]  \n",
       "3   [Room Tags, bathroom shower, bathroom shower]  \n",
       "4                                     [Room Tags]  \n",
       "5                                       [vcr/dvd]  \n",
       "6                                            [tv]  \n",
       "7                              [vcr/dvd, vcr/dvd]  \n",
       "8      [coffee maker, coffee maker, coffee maker]  \n",
       "9                                            [tv]  \n",
       "10                              [bathroom shower]  \n",
       "11                     [bathroom shower, vcr/dvd]  \n",
       "12             [suite, coffee maker, jacuzzi tub]  "
      ]
     },
     "execution_count": 28,
     "metadata": {},
     "output_type": "execute_result"
    }
   ],
   "source": [
    "final_df"
   ]
  },
  {
   "cell_type": "markdown",
   "id": "1849cbff",
   "metadata": {},
   "source": [
    "### Perform descriptive statistics on the room level in the data"
   ]
  },
  {
   "cell_type": "code",
   "execution_count": 29,
   "id": "ac399220",
   "metadata": {},
   "outputs": [
    {
     "data": {
      "text/plain": [
       "count     13.000000\n",
       "mean     159.528462\n",
       "std       74.393789\n",
       "min       55.990000\n",
       "25%       96.990000\n",
       "50%      146.990000\n",
       "75%      234.990000\n",
       "max      262.990000\n",
       "Name: BaseRate, dtype: float64"
      ]
     },
     "execution_count": 29,
     "metadata": {},
     "output_type": "execute_result"
    }
   ],
   "source": [
    "final_df['BaseRate'].describe()"
   ]
  },
  {
   "cell_type": "code",
   "execution_count": 30,
   "id": "4b12172e",
   "metadata": {},
   "outputs": [
    {
     "data": {
      "text/plain": [
       "1 King Bed       7\n",
       "2 Double Beds    3\n",
       "1 Queen Bed      2\n",
       "2 Queen Beds     1\n",
       "Name: BedOptions, dtype: int64"
      ]
     },
     "execution_count": 30,
     "metadata": {},
     "output_type": "execute_result"
    }
   ],
   "source": [
    "pd.value_counts(final_df['BedOptions'])"
   ]
  },
  {
   "cell_type": "code",
   "execution_count": 31,
   "id": "6cc9902e",
   "metadata": {},
   "outputs": [
    {
     "data": {
      "text/plain": [
       "<BarContainer object of 2 artists>"
      ]
     },
     "execution_count": 31,
     "metadata": {},
     "output_type": "execute_result"
    },
    {
     "data": {
      "image/png": "[encoded data removed]",
      "text/plain": [
       "<Figure size 640x480 with 1 Axes>"
      ]
     },
     "metadata": {},
     "output_type": "display_data"
    }
   ],
   "source": [
    "smoking_counts = final_df['SmokingAllowed'].value_counts()\n",
    "plt.bar(smoking_counts.index.astype(str), smoking_counts)"
   ]
  },
  {
   "cell_type": "code",
   "execution_count": 33,
   "id": "7289dfae",
   "metadata": {},
   "outputs": [
    {
     "data": {
      "text/plain": [
       "<BarContainer object of 4 artists>"
      ]
     },
     "execution_count": 33,
     "metadata": {},
     "output_type": "execute_result"
    },
    {
     "data": {
      "image/png": "[encoded data removed]",
      "text/plain": [
       "<Figure size 640x480 with 1 Axes>"
      ]
     },
     "metadata": {},
     "output_type": "display_data"
    }
   ],
   "source": [
    "type_count=final_df['Type'].value_counts()\n",
    "plt.bar(type_count.index.astype(str),type_count)"
   ]
  },
  {
   "cell_type": "code",
   "execution_count": 34,
   "id": "482c31f3",
   "metadata": {},
   "outputs": [
    {
     "data": {
      "text/plain": [
       "2    12\n",
       "4     1\n",
       "Name: SleepsCount, dtype: int64"
      ]
     },
     "execution_count": 34,
     "metadata": {},
     "output_type": "execute_result"
    }
   ],
   "source": [
    "pd.value_counts(final_df['SleepsCount'])"
   ]
  },
  {
   "cell_type": "code",
   "execution_count": 39,
   "id": "f8ee6788",
   "metadata": {},
   "outputs": [
    {
     "data": {
      "text/plain": [
       "Text(0.5, 1.0, 'Rooms Base Rarte')"
      ]
     },
     "execution_count": 39,
     "metadata": {},
     "output_type": "execute_result"
    },
    {
     "data": {
      "image/png": "[encoded data removed]",
      "text/plain": [
       "<Figure size 640x480 with 1 Axes>"
      ]
     },
     "metadata": {},
     "output_type": "display_data"
    }
   ],
   "source": [
    "Type = final_df['Type']\n",
    "BaseRate =final_df['BaseRate'].sort_values(ascending=False)\n",
    "\n",
    "plt.bar(Type,BaseRate)\n",
    "plt.xlabel('Room type')\n",
    "plt.ylabel('Base Rarte')\n",
    "plt.title('Rooms Base Rarte')"
   ]
  },
  {
   "cell_type": "code",
   "execution_count": 40,
   "id": "0d7ddcf4",
   "metadata": {},
   "outputs": [
    {
     "data": {
      "text/plain": [
       "Text(0.5, 1.0, 'beds Base Rarte')"
      ]
     },
     "execution_count": 40,
     "metadata": {},
     "output_type": "execute_result"
    },
    {
     "data": {
      "image/png": "[encoded data removed]",
      "text/plain": [
       "<Figure size 640x480 with 1 Axes>"
      ]
     },
     "metadata": {},
     "output_type": "display_data"
    }
   ],
   "source": [
    "BedOptions= final_df['BedOptions']\n",
    "BaseRate =final_df['BaseRate'].sort_values(ascending=False)\n",
    "plt.bar(BedOptions,BaseRate)\n",
    "plt.xlabel('beds types')\n",
    "plt.ylabel('Base Rarte')\n",
    "plt.title('beds Base Rarte')"
   ]
  },
  {
   "cell_type": "markdown",
   "id": "bec58d3f",
   "metadata": {},
   "source": [
    "### Perform a group by analysis on rooms level "
   ]
  },
  {
   "cell_type": "code",
   "execution_count": 86,
   "id": "27b52463",
   "metadata": {},
   "outputs": [
    {
     "name": "stderr",
     "output_type": "stream",
     "text": [
      "C:\\Users\\DELL\\AppData\\Local\\Temp\\ipykernel_5192\\3114889607.py:1: FutureWarning: ['Description', 'Description_fr', 'BedOptions', 'Tags'] did not aggregate successfully. If any error is raised this will raise in a future version of pandas. Drop these columns/ops to avoid this warning.\n",
      "  final_df.groupby(['Type']).agg(['count',sum,max,min,'mean'])\n"
     ]
    },
    {
     "data": {
      "text/html": [
       "<div>\n",
       "<style scoped>\n",
       "    .dataframe tbody tr th:only-of-type {\n",
       "        vertical-align: middle;\n",
       "    }\n",
       "\n",
       "    .dataframe tbody tr th {\n",
       "        vertical-align: top;\n",
       "    }\n",
       "\n",
       "    .dataframe thead tr th {\n",
       "        text-align: left;\n",
       "    }\n",
       "\n",
       "    .dataframe thead tr:last-of-type th {\n",
       "        text-align: right;\n",
       "    }\n",
       "</style>\n",
       "<table border=\"1\" class=\"dataframe\">\n",
       "  <thead>\n",
       "    <tr>\n",
       "      <th></th>\n",
       "      <th colspan=\"5\" halign=\"left\">BaseRate</th>\n",
       "      <th colspan=\"5\" halign=\"left\">SleepsCount</th>\n",
       "      <th colspan=\"5\" halign=\"left\">SmokingAllowed</th>\n",
       "    </tr>\n",
       "    <tr>\n",
       "      <th></th>\n",
       "      <th>count</th>\n",
       "      <th>sum</th>\n",
       "      <th>max</th>\n",
       "      <th>min</th>\n",
       "      <th>mean</th>\n",
       "      <th>count</th>\n",
       "      <th>sum</th>\n",
       "      <th>max</th>\n",
       "      <th>min</th>\n",
       "      <th>mean</th>\n",
       "      <th>count</th>\n",
       "      <th>sum</th>\n",
       "      <th>max</th>\n",
       "      <th>min</th>\n",
       "      <th>mean</th>\n",
       "    </tr>\n",
       "    <tr>\n",
       "      <th>Type</th>\n",
       "      <th></th>\n",
       "      <th></th>\n",
       "      <th></th>\n",
       "      <th></th>\n",
       "      <th></th>\n",
       "      <th></th>\n",
       "      <th></th>\n",
       "      <th></th>\n",
       "      <th></th>\n",
       "      <th></th>\n",
       "      <th></th>\n",
       "      <th></th>\n",
       "      <th></th>\n",
       "      <th></th>\n",
       "      <th></th>\n",
       "    </tr>\n",
       "  </thead>\n",
       "  <tbody>\n",
       "    <tr>\n",
       "      <th>Budget Room</th>\n",
       "      <td>3</td>\n",
       "      <td>265.97</td>\n",
       "      <td>96.99</td>\n",
       "      <td>80.99</td>\n",
       "      <td>88.656667</td>\n",
       "      <td>3</td>\n",
       "      <td>6</td>\n",
       "      <td>2</td>\n",
       "      <td>2</td>\n",
       "      <td>2.0</td>\n",
       "      <td>3</td>\n",
       "      <td>2</td>\n",
       "      <td>True</td>\n",
       "      <td>False</td>\n",
       "      <td>0.666667</td>\n",
       "    </tr>\n",
       "    <tr>\n",
       "      <th>Deluxe Room</th>\n",
       "      <td>2</td>\n",
       "      <td>297.98</td>\n",
       "      <td>150.99</td>\n",
       "      <td>146.99</td>\n",
       "      <td>148.990000</td>\n",
       "      <td>2</td>\n",
       "      <td>4</td>\n",
       "      <td>2</td>\n",
       "      <td>2</td>\n",
       "      <td>2.0</td>\n",
       "      <td>2</td>\n",
       "      <td>0</td>\n",
       "      <td>False</td>\n",
       "      <td>False</td>\n",
       "      <td>0.000000</td>\n",
       "    </tr>\n",
       "    <tr>\n",
       "      <th>Standard Room</th>\n",
       "      <td>3</td>\n",
       "      <td>288.97</td>\n",
       "      <td>121.99</td>\n",
       "      <td>55.99</td>\n",
       "      <td>96.323333</td>\n",
       "      <td>3</td>\n",
       "      <td>6</td>\n",
       "      <td>2</td>\n",
       "      <td>2</td>\n",
       "      <td>2.0</td>\n",
       "      <td>3</td>\n",
       "      <td>2</td>\n",
       "      <td>True</td>\n",
       "      <td>False</td>\n",
       "      <td>0.666667</td>\n",
       "    </tr>\n",
       "    <tr>\n",
       "      <th>Suite</th>\n",
       "      <td>5</td>\n",
       "      <td>1220.95</td>\n",
       "      <td>262.99</td>\n",
       "      <td>229.99</td>\n",
       "      <td>244.190000</td>\n",
       "      <td>5</td>\n",
       "      <td>12</td>\n",
       "      <td>4</td>\n",
       "      <td>2</td>\n",
       "      <td>2.4</td>\n",
       "      <td>5</td>\n",
       "      <td>2</td>\n",
       "      <td>True</td>\n",
       "      <td>False</td>\n",
       "      <td>0.400000</td>\n",
       "    </tr>\n",
       "  </tbody>\n",
       "</table>\n",
       "</div>"
      ],
      "text/plain": [
       "              BaseRate                                      SleepsCount      \\\n",
       "                 count      sum     max     min        mean       count sum   \n",
       "Type                                                                          \n",
       "Budget Room          3   265.97   96.99   80.99   88.656667           3   6   \n",
       "Deluxe Room          2   297.98  150.99  146.99  148.990000           2   4   \n",
       "Standard Room        3   288.97  121.99   55.99   96.323333           3   6   \n",
       "Suite                5  1220.95  262.99  229.99  244.190000           5  12   \n",
       "\n",
       "                           SmokingAllowed                              \n",
       "              max min mean          count sum    max    min      mean  \n",
       "Type                                                                   \n",
       "Budget Room     2   2  2.0              3   2   True  False  0.666667  \n",
       "Deluxe Room     2   2  2.0              2   0  False  False  0.000000  \n",
       "Standard Room   2   2  2.0              3   2   True  False  0.666667  \n",
       "Suite           4   2  2.4              5   2   True  False  0.400000  "
      ]
     },
     "execution_count": 86,
     "metadata": {},
     "output_type": "execute_result"
    }
   ],
   "source": [
    "final_df.groupby(['Type']).agg(['count',sum,max,min,'mean'])"
   ]
  }
 ],
 "metadata": {
  "kernelspec": {
   "display_name": "Python 3 (ipykernel)",
   "language": "python",
   "name": "python3"
  },
  "language_info": {
   "codemirror_mode": {
    "name": "ipython",
    "version": 3
   },
   "file_extension": ".py",
   "mimetype": "text/x-python",
   "name": "python",
   "nbconvert_exporter": "python",
   "pygments_lexer": "ipython3",
   "version": "3.11.4"
  }
 },
 "nbformat": 4,
 "nbformat_minor": 5
}
